{
 "cells": [
  {
   "cell_type": "markdown",
   "id": "582b742e-5db7-41ee-b315-d656a35ee870",
   "metadata": {},
   "source": [
    "## Reinforcement Learning Terminology"
   ]
  },
  {
   "cell_type": "markdown",
   "id": "2af25d22-27ed-4c2d-9164-bd4e9f26c422",
   "metadata": {},
   "source": [
    "* model-based vs model-free\n",
    "* on-policy vs off-policy"
   ]
  }
 ],
 "metadata": {
  "kernelspec": {
   "display_name": "Python 3",
   "language": "python",
   "name": "python3"
  },
  "language_info": {
   "codemirror_mode": {
    "name": "ipython",
    "version": 3
   },
   "file_extension": ".py",
   "mimetype": "text/x-python",
   "name": "python",
   "nbconvert_exporter": "python",
   "pygments_lexer": "ipython3",
   "version": "3.8.8"
  }
 },
 "nbformat": 4,
 "nbformat_minor": 5
}
